{
 "cells": [
  {
   "cell_type": "code",
   "execution_count": 1,
   "id": "f1149cdd",
   "metadata": {},
   "outputs": [
    {
     "name": "stdout",
     "output_type": "stream",
     "text": [
      "Hello, World\n"
     ]
    }
   ],
   "source": [
    "print('Hello, World')"
   ]
  },
  {
   "cell_type": "code",
   "execution_count": 4,
   "id": "62bf25db",
   "metadata": {},
   "outputs": [
    {
     "name": "stdout",
     "output_type": "stream",
     "text": [
      "Name : 한지민\n",
      "Your name is 한지민 ...\n"
     ]
    }
   ],
   "source": [
    "name = input('Name : ')\n",
    "print('Your name is', name, '...')"
   ]
  },
  {
   "cell_type": "code",
   "execution_count": 5,
   "id": "851010cc",
   "metadata": {},
   "outputs": [],
   "source": [
    "num1 = 50\n",
    "num2 = 100"
   ]
  },
  {
   "cell_type": "code",
   "execution_count": 6,
   "id": "897b7f9e",
   "metadata": {},
   "outputs": [
    {
     "name": "stdout",
     "output_type": "stream",
     "text": [
      "50  + 100  = 150\n",
      "50  - 100  = -50\n",
      "50  x 100  = 5000\n",
      "50  / 100  = 0.5\n",
      "50  // 100  = 0\n",
      "50  % 100  = 50\n"
     ]
    }
   ],
   "source": [
    "print(num1, ' +', num2, ' =', (num1 + num2))\n",
    "print(num1, ' -', num2, ' =', (num1 - num2))\n",
    "print(num1, ' x', num2, ' =', (num1 * num2))\n",
    "print(num1, ' /', num2, ' =', (num1 / num2))\n",
    "print(num1, ' //', num2, ' =', (num1 // num2))\n",
    "print(num1, ' %', num2, ' =', (num1 % num2))"
   ]
  },
  {
   "cell_type": "code",
   "execution_count": 7,
   "id": "6838cca4",
   "metadata": {},
   "outputs": [
    {
     "name": "stdout",
     "output_type": "stream",
     "text": [
      "사각형의 가로 : 35\n",
      "사각형의 세로 : 67\n"
     ]
    }
   ],
   "source": [
    "width = int(input('사각형의 가로 : '))\n",
    "height = int(input('사각형의 세로 : '))"
   ]
  },
  {
   "cell_type": "code",
   "execution_count": 8,
   "id": "bb2eeb79",
   "metadata": {},
   "outputs": [
    {
     "name": "stdout",
     "output_type": "stream",
     "text": [
      "사각형의 넓이는 2345 입니다.\n"
     ]
    }
   ],
   "source": [
    "print('사각형의 넓이는 %d 입니다.' % (width * height))"
   ]
  },
  {
   "cell_type": "code",
   "execution_count": null,
   "id": "9338bcf4",
   "metadata": {},
   "outputs": [],
   "source": []
  },
  {
   "cell_type": "code",
   "execution_count": null,
   "id": "8ef39df4",
   "metadata": {},
   "outputs": [],
   "source": []
  },
  {
   "cell_type": "code",
   "execution_count": null,
   "id": "1c31da5f",
   "metadata": {},
   "outputs": [],
   "source": []
  }
 ],
 "metadata": {
  "kernelspec": {
   "display_name": "Python 3 (ipykernel)",
   "language": "python",
   "name": "python3"
  },
  "language_info": {
   "codemirror_mode": {
    "name": "ipython",
    "version": 3
   },
   "file_extension": ".py",
   "mimetype": "text/x-python",
   "name": "python",
   "nbconvert_exporter": "python",
   "pygments_lexer": "ipython3",
   "version": "3.10.6"
  }
 },
 "nbformat": 4,
 "nbformat_minor": 5
}
